{
 "cells": [
  {
   "cell_type": "markdown",
   "metadata": {},
   "source": [
    "## Dependencies"
   ]
  },
  {
   "cell_type": "code",
   "execution_count": null,
   "metadata": {},
   "outputs": [],
   "source": [
    "# Dependencies to Visualize the model\n",
    "%matplotlib inline\n",
    "from IPython.display import Image, SVG\n",
    "import matplotlib.pyplot as plt\n",
    "import numpy as np\n",
    "np.random.seed(0)"
   ]
  },
  {
   "cell_type": "code",
   "execution_count": null,
   "metadata": {},
   "outputs": [],
   "source": [
    "# Filepaths, pandas, numpy, Tensorflow, and scikit-image\n",
    "import os\n",
    "import pandas as pd\n",
    "import numpy as np\n",
    "import tensorflow as tf\n",
    "import skimage as sk\n"
   ]
  },
  {
   "cell_type": "code",
   "execution_count": null,
   "metadata": {},
   "outputs": [],
   "source": [
    "# Sklearn scaling\n",
    "from sklearn.preprocessing import MinMaxScaler"
   ]
  },
  {
   "cell_type": "markdown",
   "metadata": {},
   "source": [
    "### Keras Specific Dependencies"
   ]
  },
  {
   "cell_type": "code",
   "execution_count": null,
   "metadata": {},
   "outputs": [],
   "source": [
    "# Keras\n",
    "from tensorflow import keras\n",
    "from tensorflow.keras.models import Sequential\n",
    "from tensorflow.keras.utils import to_categorical\n",
    "from tensorflow.keras.layers import Dense\n",
    "from tensorflow.keras.datasets import mnist"
   ]
  },
  {
   "cell_type": "markdown",
   "metadata": {},
   "source": [
    "## Loading and Preprocessing our Data"
   ]
  },
  {
   "cell_type": "markdown",
   "metadata": {},
   "source": [
    "### Load the Skin Cancer Image Dataset and Metadata"
   ]
  },
  {
   "cell_type": "code",
   "execution_count": null,
   "metadata": {},
   "outputs": [],
   "source": [
    "from PIL import Image\n",
    "\n",
    "# Define folder path where images are stored\n",
    "folder_path = \"Resources/Skin Cancer/Split\"\n",
    "\n",
    "# Load images\n",
    "def load_images_from_folder(folder_path, image_size=(224, 224)):\n",
    "    \"\"\"\n",
    "    Load images from all subfolders of a given folder and resize them to a specified size.\n",
    "    \n",
    "    Args:\n",
    "    - folder_path (str): The path to the folder containing the subfolders.\n",
    "    - image_size (tuple, optional): The desired size of the images. Defaults to (224, 224).\n",
    "\n",
    "    \n",
    "    Returns:\n",
    "    - images (list): A list of tuples, where each tuple contains a filename and its corresponding, resized image.\n",
    "    \"\"\"\n",
    "    images = []\n",
    "    # Iterate over all subfolders and their contents\n",
    "    for root, dirs, files in os.walk(folder_path):\n",
    "        for file in files:\n",
    "            if file.endswith(\".jpg\") or file.endswith(\".jpeg\"):\n",
    "                file_path = os.path.join(root, file)\n",
    "                img = Image.open(file_path)\n",
    "                if img is not None:\n",
    "                    img = img.resize(image_size)\n",
    "                    images.append((file, img))  # Storing filename along with the image\n",
    "    return images\n",
    "\n",
    "# Call function to define images\n",
    "images = load_images_from_folder(folder_path)\n",
    "\n",
    "# Check that all 10,015 images were loaded\n",
    "print(\"Number of images loaded:\", len(images))\n",
    "\n",
    "# Check first image\n",
    "if images:\n",
    "    # Extract the first image from the list\n",
    "    first_filename, first_image = images[0]\n",
    "    \n",
    "    # Display the first image\n",
    "    plt.imshow(first_image)\n",
    "    plt.title(\"First Image: \" + first_filename)  # Add title with filename\n",
    "    plt.axis('off')  # Turn off axis\n",
    "    plt.show()"
   ]
  },
  {
   "cell_type": "code",
   "execution_count": null,
   "metadata": {},
   "outputs": [],
   "source": [
    "# Define csv file name\n",
    "csv_file = \"Resources/HAM10000_metadata.csv\"\n",
    "\n",
    "# Load metadata csv\n",
    "def load_metadata_from_csv(csv_file):\n",
    "    \"\"\"\n",
    "    Load metadata from a CSV file and return it as a DataFrame.\n",
    "    \n",
    "    Args:\n",
    "    - csv_file (str): The path to the CSV file containing the metadata.\n",
    "    \n",
    "    Returns:\n",
    "    - metadata (DataFrame): A DataFrame containing the metadata read from the CSV file.\n",
    "    \"\"\"\n",
    "    metadata = pd.read_csv(csv_file)\n",
    "    return metadata\n",
    "\n",
    "# Call function to define metadata\n",
    "metadata = load_metadata_from_csv(csv_file)\n",
    "\n",
    "# Preview pandas dataframe to confirm metadata loaded correctly\n",
    "metadata.head()"
   ]
  },
  {
   "cell_type": "code",
   "execution_count": null,
   "metadata": {},
   "outputs": [],
   "source": [
    "# Match images with metadata based on filenames\n",
    "def match_images_with_metadata(images, metadata):\n",
    "    \"\"\"\n",
    "    Match images with metadata based on filenames.\n",
    "\n",
    "    Args:\n",
    "    - images (list): A list of tuples containing (filename, image).\n",
    "    - metadata (DataFrame): A DataFrame containing metadata.\n",
    "\n",
    "    Returns:\n",
    "    - matched_data (list): A list of tuples containing (filename, image, matched metadata row).\n",
    "    \"\"\"\n",
    "    matched_data = []\n",
    "    for filename, img in images:\n",
    "        # Extract the filename without extension\n",
    "        filename_without_ext = os.path.splitext(filename)[0]\n",
    "        # Find corresponding row in metadata with matching filename\n",
    "        matched_row = metadata.loc[metadata['image_id'] == filename_without_ext]\n",
    "        # If a match is found, store the image and metadata together\n",
    "        if not matched_row.empty:\n",
    "            matched_data.append((filename, img, matched_row))\n",
    "    return matched_data\n",
    "\n",
    "# Call function to define matched_data\n",
    "matched_data = match_images_with_metadata(images, metadata)\n",
    "\n",
    "# Check that all 10,015 images were matched with metadata\n",
    "print(\"Number of matched images and metadata:\", len(matched_data))"
   ]
  },
  {
   "cell_type": "code",
   "execution_count": null,
   "metadata": {},
   "outputs": [],
   "source": [
    "# Create pandas dataframe of metadata matched with corresponding image\n",
    "def create_metadata_image_dataframe(matched_data):\n",
    "    \"\"\"\n",
    "    Create a DataFrame containing metadata with corresponding images.\n",
    "    \n",
    "    Args:\n",
    "    - matched_data (list): A list of tuples containing (filename, image, metadata_row).\n",
    "    \n",
    "    Returns:\n",
    "    - df (DataFrame): A DataFrame where each row corresponds to a matched image and its metadata.\n",
    "    \"\"\"\n",
    "    data = []\n",
    "    for filename, img, metadata_row in matched_data:\n",
    "        metadata_dict = metadata_row.to_dict(orient='records')[0]  # Convert metadata row to dictionary\n",
    "        metadata_dict['Image'] = img  # Add the image to the metadata dictionary\n",
    "        data.append(metadata_dict)\n",
    "    df = pd.DataFrame(data)\n",
    "    return df\n",
    "\n",
    "# Call function to define metadata_image_df\n",
    "metadata_image_df = create_metadata_image_dataframe(matched_data)\n",
    "\n",
    "# Preview dataframe\n",
    "metadata_image_df.head()"
   ]
  },
  {
   "cell_type": "markdown",
   "metadata": {},
   "source": [
    "## Image Color Analysis"
   ]
  },
  {
   "cell_type": "markdown",
   "metadata": {},
   "source": [
    "### HSV Color Analysis"
   ]
  },
  {
   "cell_type": "code",
   "execution_count": null,
   "metadata": {},
   "outputs": [],
   "source": [
    "from skimage import color\n",
    "\n",
    "def calculate_hsv_histogram(image):\n",
    "    \"\"\"\n",
    "    Calculate HSV histograms for an image.\n",
    "\n",
    "    Parameters:\n",
    "    - image: PIL.Image.Image object representing the input image.\n",
    "\n",
    "    Returns:\n",
    "    - hue_histogram: NumPy array containing the histogram of hue values.\n",
    "    - saturation_histogram: NumPy array containing the histogram of saturation values.\n",
    "    - value_histogram: NumPy array containing the histogram of value (brightness) values.\n",
    "    \"\"\"\n",
    "    # Convert PIL Image to NumPy array\n",
    "    image_array = np.array(image)\n",
    "\n",
    "    # Convert the image to HSV color space\n",
    "    hsv_image = color.rgb2hsv(image_array)\n",
    "\n",
    "    # Calculate histograms for each component (Hue, Saturation, Value)\n",
    "    hue_histogram, _ = np.histogram(hsv_image[:,:,0], bins=180, range=(0, 1))\n",
    "    saturation_histogram, _ = np.histogram(hsv_image[:,:,1], bins=256, range=(0, 1))\n",
    "    value_histogram, _ = np.histogram(hsv_image[:,:,2], bins=256, range=(0, 1))\n",
    "\n",
    "    return hue_histogram, saturation_histogram, value_histogram\n",
    "\n",
    "# Replace 'Image' with the actual column name containing images\n",
    "metadata_image_df[['hue_histogram', 'saturation_histogram', 'value_histogram']] = metadata_image_df['Image'].apply(calculate_hsv_histogram).apply(pd.Series)\n",
    "\n",
    "# Display the updated DataFrame\n",
    "metadata_image_df.head()"
   ]
  },
  {
   "cell_type": "markdown",
   "metadata": {},
   "source": [
    "### RGB Color Analysis"
   ]
  },
  {
   "cell_type": "code",
   "execution_count": null,
   "metadata": {},
   "outputs": [],
   "source": [
    "def calculate_rgb_histogram(image):\n",
    "    \"\"\"\n",
    "    Calculate RGB histograms for an image.\n",
    "\n",
    "    Parameters:\n",
    "    - image: PIL.Image.Image object representing the input image.\n",
    "\n",
    "    Returns:\n",
    "    - red_histogram: NumPy array containing the histogram of red values.\n",
    "    - green_histogram: NumPy array containing the histogram of green values.\n",
    "    - blue_histogram: NumPy array containing the histogram of blue values.\n",
    "    \"\"\"\n",
    "    # Convert PIL Image to NumPy array\n",
    "    image_array = np.array(image)\n",
    "\n",
    "    # Calculate histograms for each RGB channel\n",
    "    red_histogram, _ = np.histogram(image_array[:,:,0], bins=256, range=(0, 255))\n",
    "    green_histogram, _ = np.histogram(image_array[:,:,1], bins=256, range=(0, 255))\n",
    "    blue_histogram, _ = np.histogram(image_array[:,:,2], bins=256, range=(0, 255))\n",
    "\n",
    "    return red_histogram, green_histogram, blue_histogram\n",
    "\n",
    "# Assuming df is your DataFrame containing metadata and images\n",
    "# Replace 'Image' with the actual column name containing images\n",
    "metadata_image_df[['red_histogram', 'green_histogram', 'blue_histogram']] = metadata_image_df['Image'].apply(calculate_rgb_histogram).apply(pd.Series)\n",
    "\n",
    "# Display the updated DataFrame\n",
    "metadata_image_df.head()\n"
   ]
  },
  {
   "cell_type": "code",
   "execution_count": null,
   "metadata": {},
   "outputs": [],
   "source": []
  }
 ],
 "metadata": {
  "kernelspec": {
   "display_name": "nn",
   "language": "python",
   "name": "python3"
  },
  "language_info": {
   "codemirror_mode": {
    "name": "ipython",
    "version": 3
   },
   "file_extension": ".py",
   "mimetype": "text/x-python",
   "name": "python",
   "nbconvert_exporter": "python",
   "pygments_lexer": "ipython3",
   "version": "3.9.19"
  }
 },
 "nbformat": 4,
 "nbformat_minor": 2
}
